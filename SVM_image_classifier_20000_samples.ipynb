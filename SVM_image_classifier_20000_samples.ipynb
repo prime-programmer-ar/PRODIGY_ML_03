{
 "cells": [
  {
   "cell_type": "code",
   "execution_count": 1,
   "id": "2f68a2fe",
   "metadata": {},
   "outputs": [],
   "source": [
    "import os\n",
    "import cv2\n",
    "import numpy as np\n",
    "from sklearn.model_selection import train_test_split\n",
    "from sklearn.svm import SVC\n",
    "from sklearn.metrics import accuracy_score, classification_report\n",
    "from tqdm import tqdm\n",
    "import random\n",
    "import matplotlib.pyplot as plt\n",
    "import joblib  # Import the joblib library for saving the model"
   ]
  },
  {
   "cell_type": "code",
   "execution_count": 2,
   "id": "dfcc2065",
   "metadata": {},
   "outputs": [],
   "source": [
    "# Define constants\n",
    "TRAIN_DIR = 'dataset/train/train'\n",
    "TEST_DIR = 'dataset/test'\n",
    "\n",
    "# Using a smaller image size for faster training with SVM\n",
    "IMG_SIZE = 64 \n",
    "\n",
    "# Using a smaller sample of images to ensure training completes in a reasonable time\n",
    "SAMPLE_COUNT = 20000"
   ]
  },
  {
   "cell_type": "code",
   "execution_count": 3,
   "id": "46e589ad",
   "metadata": {},
   "outputs": [],
   "source": [
    "def load_data_from_subfolders(base_folder_path, sample_size=None):\n",
    "    \"\"\"\n",
    "    Loads images from class-specific subfolders (e.g., 'cats', 'dogs').\n",
    "    This is the standard best practice.\n",
    "    \"\"\"\n",
    "    data = []\n",
    "    labels = []\n",
    "    all_files = []\n",
    "    \n",
    "    categories = ['cats', 'dogs'] # Assumes subfolders are named 'cats' and 'dogs'\n",
    "    \n",
    "    print(f\"Scanning for images in '{base_folder_path}'...\")\n",
    "    for category in categories:\n",
    "        folder_path = os.path.join(base_folder_path, category)\n",
    "        if not os.path.exists(folder_path):\n",
    "            print(f\"Warning: Folder not found at '{folder_path}'. Skipping.\")\n",
    "            continue\n",
    "            \n",
    "        label = categories.index(category) # cats -> 0, dogs -> 1\n",
    "        \n",
    "        for filename in os.listdir(folder_path):\n",
    "            img_path = os.path.join(folder_path, filename)\n",
    "            all_files.append((img_path, label))\n",
    "\n",
    "    if sample_size and len(all_files) > sample_size:\n",
    "        all_files = random.sample(all_files, sample_size)\n",
    "    \n",
    "    print(f\"Loading and processing {len(all_files)} sampled images...\")\n",
    "    for img_path, label in tqdm(all_files, desc=\"Processing Images\"):\n",
    "        try:\n",
    "            image = cv2.imread(img_path, cv2.IMREAD_GRAYSCALE)\n",
    "            if image is None: continue\n",
    "            \n",
    "            resized_image = cv2.resize(image, (IMG_SIZE, IMG_SIZE))\n",
    "            flattened_image = resized_image.flatten() / 255.0\n",
    "            \n",
    "            data.append(flattened_image)\n",
    "            labels.append(label)\n",
    "        except Exception:\n",
    "            pass\n",
    "\n",
    "    return np.array(data, dtype=np.float32), np.array(labels)"
   ]
  },
  {
   "cell_type": "code",
   "execution_count": 4,
   "id": "dd95c9ac",
   "metadata": {},
   "outputs": [
    {
     "name": "stdout",
     "output_type": "stream",
     "text": [
      "Scanning for images in 'dataset/train/train'...\n",
      "Loading and processing 20000 sampled images...\n"
     ]
    },
    {
     "name": "stderr",
     "output_type": "stream",
     "text": [
      "Processing Images: 100%|██████████| 20000/20000 [02:28<00:00, 134.44it/s]\n"
     ]
    }
   ],
   "source": [
    "X, y = load_data_from_subfolders(TRAIN_DIR, sample_size=SAMPLE_COUNT)"
   ]
  },
  {
   "cell_type": "code",
   "execution_count": 5,
   "id": "d3b4e70f",
   "metadata": {},
   "outputs": [
    {
     "name": "stdout",
     "output_type": "stream",
     "text": [
      "\n",
      "Data split complete.\n",
      "Training data shape: (16000, 4096)\n",
      "Validation data shape: (4000, 4096)\n"
     ]
    }
   ],
   "source": [
    "X_train, X_val, y_train, y_val = train_test_split(X, y, test_size=0.2, random_state=42, stratify=y)\n",
    "    \n",
    "print(f\"\\nData split complete.\")\n",
    "print(f\"Training data shape: {X_train.shape}\")\n",
    "print(f\"Validation data shape: {X_val.shape}\")"
   ]
  },
  {
   "cell_type": "code",
   "execution_count": 6,
   "id": "c4a358f5",
   "metadata": {},
   "outputs": [
    {
     "name": "stdout",
     "output_type": "stream",
     "text": [
      "\n",
      "--- Starting SVM Training ---\n",
      "WARNING: This will train on 16000 images and will likely take SEVERAL HOURS.\n",
      "--- Training Complete ---\n"
     ]
    }
   ],
   "source": [
    "print(\"\\n--- Starting SVM Training ---\")\n",
    "print(f\"WARNING: This will train on {X_train.shape[0]} images and will likely take SEVERAL HOURS.\")\n",
    "\n",
    "svm_classifier = SVC(\n",
    "    kernel='rbf', \n",
    "    C=1.0, \n",
    "    gamma='scale', \n",
    "    probability=True, \n",
    "    random_state=42,\n",
    ")\n",
    "\n",
    "svm_classifier.fit(X_train, y_train)\n",
    "print(\"--- Training Complete ---\")"
   ]
  },
  {
   "cell_type": "code",
   "execution_count": 7,
   "id": "43f3229a",
   "metadata": {},
   "outputs": [
    {
     "name": "stdout",
     "output_type": "stream",
     "text": [
      "\n",
      "Evaluating the model on the validation set...\n",
      "\n",
      "Validation Accuracy: 0.6465\n",
      "\n",
      "Classification Report:\n",
      "              precision    recall  f1-score   support\n",
      "\n",
      "         Cat       0.65      0.64      0.64      2006\n",
      "         Dog       0.64      0.66      0.65      1994\n",
      "\n",
      "    accuracy                           0.65      4000\n",
      "   macro avg       0.65      0.65      0.65      4000\n",
      "weighted avg       0.65      0.65      0.65      4000\n",
      "\n"
     ]
    }
   ],
   "source": [
    "print(\"\\nEvaluating the model on the validation set...\")\n",
    "y_pred = svm_classifier.predict(X_val)\n",
    "accuracy = accuracy_score(y_val, y_pred)\n",
    "\n",
    "print(f\"\\nValidation Accuracy: {accuracy:.4f}\")\n",
    "print(\"\\nClassification Report:\")\n",
    "print(classification_report(y_val, y_pred, target_names=['Cat', 'Dog']))"
   ]
  },
  {
   "cell_type": "code",
   "execution_count": 8,
   "id": "537818b1",
   "metadata": {},
   "outputs": [
    {
     "name": "stdout",
     "output_type": "stream",
     "text": [
      "\n",
      "Saving the trained model to 'svm_cat_dog_classifier_20k.joblib'...\n",
      "Model saved successfully.\n"
     ]
    }
   ],
   "source": [
    "# saving the trained model\n",
    "model_filename = 'svm_cat_dog_classifier_20k.joblib'\n",
    "print(f\"\\nSaving the trained model to '{model_filename}'...\")\n",
    "joblib.dump(svm_classifier, model_filename)\n",
    "print(\"Model saved successfully.\")"
   ]
  },
  {
   "cell_type": "code",
   "execution_count": null,
   "id": "032a5705",
   "metadata": {},
   "outputs": [],
   "source": [
    "print(\"\\nMaking predictions on a few unlabeled test images...\")\n",
    "if not os.path.exists(TEST_DIR) or not os.listdir(TEST_DIR):\n",
    "    print(\"Test directory not found or is empty. Skipping prediction display.\")\n",
    "else:\n",
    "    test_files = os.listdir(TEST_DIR)\n",
    "    label_map = {0: 'Cat', 1: 'Dog'}\n",
    "\n",
    "    plt.figure(figsize=(12, 8))\n",
    "    for i, file in enumerate(random.sample(test_files, min(9, len(test_files)))):\n",
    "        img_path = os.path.join(TEST_DIR, file)\n",
    "        test_image = cv2.imread(img_path, cv2.IMREAD_GRAYSCALE)\n",
    "        if test_image is None: continue\n",
    "\n",
    "        resized_test_image = cv2.resize(test_image, (IMG_SIZE, IMG_SIZE))\n",
    "        flattened_test_image = resized_test_image.flatten().reshape(1, -1) / 255.0\n",
    "        \n",
    "        prediction = svm_classifier.predict(flattened_test_image)\n",
    "        predicted_label = label_map[prediction[0]]\n",
    "        \n",
    "        plt.subplot(3, 3, i + 1)\n",
    "        plt.imshow(cv2.cvtColor(test_image, cv2.COLOR_GRAY2RGB))\n",
    "        plt.title(f'Prediction: {predicted_label}')\n",
    "        plt.axis('off')\n",
    "        \n",
    "    plt.tight_layout()\n",
    "    plt.show()"
   ]
  }
 ],
 "metadata": {
  "kernelspec": {
   "display_name": "Python 3",
   "language": "python",
   "name": "python3"
  },
  "language_info": {
   "codemirror_mode": {
    "name": "ipython",
    "version": 3
   },
   "file_extension": ".py",
   "mimetype": "text/x-python",
   "name": "python",
   "nbconvert_exporter": "python",
   "pygments_lexer": "ipython3",
   "version": "3.12.10"
  }
 },
 "nbformat": 4,
 "nbformat_minor": 5
}
